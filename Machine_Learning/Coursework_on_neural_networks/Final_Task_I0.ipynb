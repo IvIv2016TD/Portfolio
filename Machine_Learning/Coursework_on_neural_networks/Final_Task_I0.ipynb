{
 "cells": [
  {
   "cell_type": "code",
   "execution_count": null,
   "id": "67d5b40b",
   "metadata": {},
   "outputs": [],
   "source": [
    "%matplotlib inline"
   ]
  },
  {
   "cell_type": "code",
   "execution_count": 118,
   "id": "569135d5",
   "metadata": {},
   "outputs": [],
   "source": [
    "import matplotlib.pyplot as plt\n",
    "import tensorflow as tf\n",
    "\n",
    "import pandas as pd\n",
    "import numpy as np\n",
    "from itertools import cycle\n",
    "import datetime\n",
    "import time\n",
    "\n",
    "%matplotlib inline\n",
    "\n",
    "from sklearn.metrics import roc_curve, auc, recall_score, accuracy_score, roc_auc_score, make_scorer\n",
    "from sklearn.model_selection import train_test_split, cross_val_score, StratifiedKFold\n",
    "from sklearn.preprocessing import label_binarize, StandardScaler\n",
    "from sklearn.multiclass import OneVsRestClassifier\n",
    "from sklearn.linear_model import LogisticRegression, LogisticRegressionCV\n"
   ]
  },
  {
   "cell_type": "code",
   "execution_count": 4,
   "id": "c8f012f8",
   "metadata": {},
   "outputs": [],
   "source": [
    "filepath_train = 'D:/Работа программистом/coursera/Python для анализа данных/Week_6/Final_task/fashion-mnist_train.csv'\n",
    "filepath_test = 'D:/Работа программистом/coursera/Python для анализа данных/Week_6/Final_task/fashion-mnist_test.csv'"
   ]
  },
  {
   "cell_type": "code",
   "execution_count": 82,
   "id": "151c94ce",
   "metadata": {},
   "outputs": [],
   "source": [
    "df_rates = pd.read_csv(filepath_train)\n",
    "x_train = df_rates.drop(['label'], axis=1).to_numpy()\n",
    "\n",
    "df_test = pd.read_csv(filepath_test)\n",
    "x_test = df_test.drop(['label'], axis=1).to_numpy()\n",
    "\n",
    "scaler = StandardScaler()\n",
    "x_train = scaler.fit_transform(x_train)\n",
    "x_test = scaler.transform(x_test)\n",
    "\n",
    "y_train = df_rates['label'].to_numpy().T\n",
    "y_test = df_test['label'].to_numpy().T\n",
    "\n",
    "# Переводим вектора y в one-hot представление\n",
    "y_train = label_binarize(y_train, classes=[0, 1, 2, 3, 4, 5, 6, 7, 8, 9])\n",
    "y_test = label_binarize(y_test, classes=[0, 1, 2, 3, 4, 5, 6, 7, 8, 9])"
   ]
  },
  {
   "cell_type": "code",
   "execution_count": 167,
   "id": "f214df7f",
   "metadata": {},
   "outputs": [],
   "source": [
    "batch_size = 128\n",
    "num_classes = y_train.shape[1]\n",
    "shape_x = x_train.shape[1]\n",
    "epochs = 10\n",
    "accuracy_test = []\n",
    "loss_test = []"
   ]
  },
  {
   "cell_type": "markdown",
   "id": "3b31b4f0",
   "metadata": {},
   "source": [
    "# Логистическая регрессия. Метрика 'accuracy'."
   ]
  },
  {
   "cell_type": "code",
   "execution_count": 158,
   "id": "4ea89232",
   "metadata": {},
   "outputs": [],
   "source": [
    "model_LR = tf.keras.models.Sequential()\n",
    "model_LR.add(tf.keras.layers.Dense(num_classes, activation=\"softmax\", input_shape=(shape_x,)))"
   ]
  },
  {
   "cell_type": "code",
   "execution_count": 159,
   "id": "1a789e43",
   "metadata": {},
   "outputs": [
    {
     "name": "stdout",
     "output_type": "stream",
     "text": [
      "Epoch 1/10\n",
      "469/469 [==============================] - 3s 6ms/step - loss: 0.7179 - accuracy: 0.7539 - val_loss: 0.5630 - val_accuracy: 0.8102\n",
      "Epoch 2/10\n",
      "469/469 [==============================] - 2s 5ms/step - loss: 0.5303 - accuracy: 0.8189 - val_loss: 0.5128 - val_accuracy: 0.8276\n",
      "Epoch 3/10\n",
      "469/469 [==============================] - 2s 5ms/step - loss: 0.4949 - accuracy: 0.8307 - val_loss: 0.4918 - val_accuracy: 0.8365\n",
      "Epoch 4/10\n",
      "469/469 [==============================] - 2s 5ms/step - loss: 0.4756 - accuracy: 0.8369 - val_loss: 0.4781 - val_accuracy: 0.8412\n",
      "Epoch 5/10\n",
      "469/469 [==============================] - 2s 5ms/step - loss: 0.4625 - accuracy: 0.8418 - val_loss: 0.4701 - val_accuracy: 0.8443\n",
      "Epoch 6/10\n",
      "469/469 [==============================] - 2s 5ms/step - loss: 0.4534 - accuracy: 0.8447 - val_loss: 0.4627 - val_accuracy: 0.8476\n",
      "Epoch 7/10\n",
      "469/469 [==============================] - 2s 5ms/step - loss: 0.4459 - accuracy: 0.8470 - val_loss: 0.4598 - val_accuracy: 0.8475\n",
      "Epoch 8/10\n",
      "469/469 [==============================] - 2s 5ms/step - loss: 0.4403 - accuracy: 0.8483 - val_loss: 0.4532 - val_accuracy: 0.8496\n",
      "Epoch 9/10\n",
      "469/469 [==============================] - 2s 5ms/step - loss: 0.4354 - accuracy: 0.8509 - val_loss: 0.4495 - val_accuracy: 0.8506\n",
      "Epoch 10/10\n",
      "469/469 [==============================] - 2s 5ms/step - loss: 0.4310 - accuracy: 0.8526 - val_loss: 0.4458 - val_accuracy: 0.8500\n"
     ]
    }
   ],
   "source": [
    "model_LR.compile(\n",
    "loss=\"categorical_crossentropy\",\n",
    "optimizer=tf.keras.optimizers.SGD(),\n",
    "metrics=['accuracy']\n",
    ")\n",
    "\n",
    "history_LR = model_LR.fit(\n",
    "            x_train, y_train,\n",
    "            batch_size=batch_size,\n",
    "            epochs=epochs,\n",
    "            verbose=1,\n",
    "            validation_data=(x_test, y_test),\n",
    "            )"
   ]
  },
  {
   "cell_type": "code",
   "execution_count": 168,
   "id": "3ca4d72d",
   "metadata": {},
   "outputs": [],
   "source": [
    "loss, accuracy = model_LR.evaluate(x_test, y_test, verbose=0)\n",
    "accuracy_test.append(accuracy)\n",
    "loss_test.append(loss)"
   ]
  },
  {
   "cell_type": "markdown",
   "id": "dfe89f94",
   "metadata": {},
   "source": [
    "# Полносвязная нейронная сеть. Метрика 'accuracy'."
   ]
  },
  {
   "cell_type": "code",
   "execution_count": 161,
   "id": "6f224d7b",
   "metadata": {},
   "outputs": [],
   "source": [
    "model_FR = tf.keras.models.Sequential()\n",
    "model_FR.add(tf.keras.layers.Dense(256, activation=\"relu\", input_shape=(shape_x,)))\n",
    "model_FR.add(tf.keras.layers.Dense(num_classes, activation=\"softmax\"))"
   ]
  },
  {
   "cell_type": "code",
   "execution_count": 162,
   "id": "4265db7b",
   "metadata": {},
   "outputs": [
    {
     "name": "stdout",
     "output_type": "stream",
     "text": [
      "Epoch 1/10\n",
      "469/469 [==============================] - 10s 21ms/step - loss: 0.6715 - accuracy: 0.7720 - val_loss: 0.5141 - val_accuracy: 0.8228\n",
      "Epoch 2/10\n",
      "469/469 [==============================] - 9s 19ms/step - loss: 0.4733 - accuracy: 0.8340 - val_loss: 0.4538 - val_accuracy: 0.8453\n",
      "Epoch 3/10\n",
      "469/469 [==============================] - 9s 20ms/step - loss: 0.4278 - accuracy: 0.8487 - val_loss: 0.4268 - val_accuracy: 0.8529\n",
      "Epoch 4/10\n",
      "469/469 [==============================] - 9s 19ms/step - loss: 0.4012 - accuracy: 0.8585 - val_loss: 0.4038 - val_accuracy: 0.8617\n",
      "Epoch 5/10\n",
      "469/469 [==============================] - 8s 18ms/step - loss: 0.3825 - accuracy: 0.8649 - val_loss: 0.3917 - val_accuracy: 0.8652\n",
      "Epoch 6/10\n",
      "469/469 [==============================] - 9s 19ms/step - loss: 0.3681 - accuracy: 0.8697 - val_loss: 0.3815 - val_accuracy: 0.8677\n",
      "Epoch 7/10\n",
      "469/469 [==============================] - 8s 18ms/step - loss: 0.3565 - accuracy: 0.8735 - val_loss: 0.3735 - val_accuracy: 0.8696\n",
      "Epoch 8/10\n",
      "469/469 [==============================] - 8s 18ms/step - loss: 0.3462 - accuracy: 0.8770 - val_loss: 0.3670 - val_accuracy: 0.8720\n",
      "Epoch 9/10\n",
      "469/469 [==============================] - 8s 18ms/step - loss: 0.3376 - accuracy: 0.8798 - val_loss: 0.3610 - val_accuracy: 0.8742\n",
      "Epoch 10/10\n",
      "469/469 [==============================] - 10s 21ms/step - loss: 0.3301 - accuracy: 0.8829 - val_loss: 0.3569 - val_accuracy: 0.8758\n"
     ]
    }
   ],
   "source": [
    "model_FR.compile(\n",
    "loss=\"categorical_crossentropy\",\n",
    "optimizer=tf.keras.optimizers.SGD(),\n",
    "metrics=['accuracy']\n",
    ")\n",
    "\n",
    "history_FR = model_FR.fit(\n",
    "            x_train, y_train,\n",
    "            batch_size=batch_size,\n",
    "            epochs=epochs,\n",
    "            verbose=1,\n",
    "            validation_data=(x_test, y_test),\n",
    "            )"
   ]
  },
  {
   "cell_type": "code",
   "execution_count": 169,
   "id": "d1092e44",
   "metadata": {},
   "outputs": [],
   "source": [
    "loss, accuracy = model_FR.evaluate(x_test, y_test, verbose=0)\n",
    "accuracy_test.append(accuracy)\n",
    "loss_test.append(loss)"
   ]
  },
  {
   "cell_type": "markdown",
   "id": "919c9d1e",
   "metadata": {},
   "source": [
    "# Свёрточная нейронная сеть. Метрика 'accuracy'."
   ]
  },
  {
   "cell_type": "code",
   "execution_count": 105,
   "id": "932427a0",
   "metadata": {},
   "outputs": [],
   "source": [
    "x_train_sn = x_train.reshape(60000,28,28,1)\n",
    "x_test_sn = x_test.reshape(10000,28,28,1)"
   ]
  },
  {
   "cell_type": "code",
   "execution_count": 106,
   "id": "1d27459b",
   "metadata": {},
   "outputs": [],
   "source": [
    "model_CNN = tf.keras.models.Sequential()\n",
    "model_CNN.add(tf.keras.layers.Conv2D(32, kernel_size=3, activation='relu', input_shape=(28,28,1)))\n",
    "model_CNN.add(tf.keras.layers.MaxPooling2D(pool_size=(2, 2)))\n",
    "model_CNN.add(tf.keras.layers.Conv2D(64, kernel_size=3, activation='relu', input_shape=(28,28,1)))\n",
    "model_CNN.add(tf.keras.layers.MaxPooling2D(pool_size=(2, 2)))\n",
    "model_CNN.add(tf.keras.layers.Flatten())\n",
    "model_CNN.add(tf.keras.layers.Dense(64, activation=\"relu\", input_shape=(shape_x,)))\n",
    "model_CNN.add(tf.keras.layers.Dense(num_classes, activation=\"softmax\"))"
   ]
  },
  {
   "cell_type": "code",
   "execution_count": 107,
   "id": "22b7e460",
   "metadata": {},
   "outputs": [
    {
     "name": "stdout",
     "output_type": "stream",
     "text": [
      "Epoch 1/10\n",
      "469/469 [==============================] - 182s 389ms/step - loss: 0.9657 - accuracy: 0.6820 - val_loss: 0.6543 - val_accuracy: 0.7523\n",
      "Epoch 2/10\n",
      "469/469 [==============================] - 229s 488ms/step - loss: 0.5826 - accuracy: 0.7847 - val_loss: 0.5229 - val_accuracy: 0.8185\n",
      "Epoch 3/10\n",
      "469/469 [==============================] - 151s 322ms/step - loss: 0.5091 - accuracy: 0.8152 - val_loss: 0.4801 - val_accuracy: 0.8312\n",
      "Epoch 4/10\n",
      "469/469 [==============================] - 141s 301ms/step - loss: 0.4622 - accuracy: 0.8344 - val_loss: 0.4293 - val_accuracy: 0.8480\n",
      "Epoch 5/10\n",
      "469/469 [==============================] - 139s 296ms/step - loss: 0.4351 - accuracy: 0.8439 - val_loss: 0.4576 - val_accuracy: 0.8315\n",
      "Epoch 6/10\n",
      "469/469 [==============================] - 138s 294ms/step - loss: 0.4119 - accuracy: 0.8527 - val_loss: 0.4083 - val_accuracy: 0.8502\n",
      "Epoch 7/10\n",
      "469/469 [==============================] - 135s 289ms/step - loss: 0.3937 - accuracy: 0.8602 - val_loss: 0.4146 - val_accuracy: 0.8463\n",
      "Epoch 8/10\n",
      "469/469 [==============================] - 137s 293ms/step - loss: 0.3802 - accuracy: 0.8654 - val_loss: 0.3670 - val_accuracy: 0.8711\n",
      "Epoch 9/10\n",
      "469/469 [==============================] - 135s 289ms/step - loss: 0.3689 - accuracy: 0.8683 - val_loss: 0.3751 - val_accuracy: 0.8654\n",
      "Epoch 10/10\n",
      "469/469 [==============================] - 136s 289ms/step - loss: 0.3566 - accuracy: 0.8735 - val_loss: 0.3543 - val_accuracy: 0.8738\n"
     ]
    }
   ],
   "source": [
    "model_CNN.compile(\n",
    "loss=\"categorical_crossentropy\",\n",
    "optimizer=tf.keras.optimizers.SGD(),\n",
    "metrics=['accuracy']\n",
    ")\n",
    "\n",
    "history_CNN = model_CNN.fit(\n",
    "            x_train_sn, y_train,\n",
    "            batch_size=batch_size,\n",
    "            epochs=epochs,\n",
    "            verbose=1,\n",
    "            validation_data=(x_test_sn, y_test),\n",
    "            )"
   ]
  },
  {
   "cell_type": "code",
   "execution_count": 170,
   "id": "3a5caf12",
   "metadata": {},
   "outputs": [],
   "source": [
    "loss, accuracy = model_CNN.evaluate(x_test_sn, y_test, verbose=0)\n",
    "accuracy_test.append(accuracy)\n",
    "loss_test.append(loss)"
   ]
  },
  {
   "cell_type": "markdown",
   "id": "40a6e0bc",
   "metadata": {},
   "source": [
    "# Свёрточная нейронная сеть. Метрика 'accuracy'. Batch Normalization."
   ]
  },
  {
   "cell_type": "code",
   "execution_count": 111,
   "id": "9dd1a931",
   "metadata": {},
   "outputs": [],
   "source": [
    "model_CNN_BN = tf.keras.models.Sequential()\n",
    "model_CNN_BN.add(tf.keras.layers.Conv2D(32, kernel_size=3, activation='relu', input_shape=(28,28,1)))\n",
    "model_CNN_BN.add(tf.keras.layers.BatchNormalization())\n",
    "model_CNN_BN.add(tf.keras.layers.MaxPooling2D(pool_size=(2, 2)))\n",
    "model_CNN_BN.add(tf.keras.layers.Conv2D(64, kernel_size=3, activation='relu', input_shape=(28,28,1)))\n",
    "model_CNN_BN.add(tf.keras.layers.BatchNormalization())\n",
    "model_CNN_BN.add(tf.keras.layers.MaxPooling2D(pool_size=(2, 2)))\n",
    "model_CNN_BN.add(tf.keras.layers.Flatten())\n",
    "model_CNN_BN.add(tf.keras.layers.Dense(64, activation=\"relu\", input_shape=(shape_x,)))\n",
    "model_CNN_BN.add(tf.keras.layers.Dense(num_classes, activation=\"softmax\"))"
   ]
  },
  {
   "cell_type": "code",
   "execution_count": 112,
   "id": "82e888fb",
   "metadata": {},
   "outputs": [
    {
     "name": "stdout",
     "output_type": "stream",
     "text": [
      "Epoch 1/10\n",
      "469/469 [==============================] - 201s 429ms/step - loss: 0.5366 - accuracy: 0.8135 - val_loss: 0.4428 - val_accuracy: 0.8505\n",
      "Epoch 2/10\n",
      "469/469 [==============================] - 202s 430ms/step - loss: 0.3613 - accuracy: 0.8719 - val_loss: 0.3423 - val_accuracy: 0.8762\n",
      "Epoch 3/10\n",
      "469/469 [==============================] - 199s 425ms/step - loss: 0.3165 - accuracy: 0.8871 - val_loss: 0.3157 - val_accuracy: 0.8884\n",
      "Epoch 4/10\n",
      "469/469 [==============================] - 201s 429ms/step - loss: 0.2909 - accuracy: 0.8964 - val_loss: 0.3029 - val_accuracy: 0.8898\n",
      "Epoch 5/10\n",
      "469/469 [==============================] - 201s 428ms/step - loss: 0.2702 - accuracy: 0.9028 - val_loss: 0.3024 - val_accuracy: 0.8920\n",
      "Epoch 6/10\n",
      "469/469 [==============================] - 200s 425ms/step - loss: 0.2531 - accuracy: 0.9094 - val_loss: 0.2842 - val_accuracy: 0.8963\n",
      "Epoch 7/10\n",
      "469/469 [==============================] - 204s 435ms/step - loss: 0.2402 - accuracy: 0.9150 - val_loss: 0.2818 - val_accuracy: 0.8994\n",
      "Epoch 8/10\n",
      "469/469 [==============================] - 200s 426ms/step - loss: 0.2286 - accuracy: 0.9174 - val_loss: 0.2704 - val_accuracy: 0.9036\n",
      "Epoch 9/10\n",
      "469/469 [==============================] - 203s 433ms/step - loss: 0.2182 - accuracy: 0.9221 - val_loss: 0.2711 - val_accuracy: 0.9001\n",
      "Epoch 10/10\n",
      "469/469 [==============================] - 204s 436ms/step - loss: 0.2097 - accuracy: 0.9253 - val_loss: 0.2695 - val_accuracy: 0.9012\n"
     ]
    }
   ],
   "source": [
    "model_CNN_BN.compile(\n",
    "loss=\"categorical_crossentropy\",\n",
    "optimizer=tf.keras.optimizers.SGD(),\n",
    "metrics=['accuracy']\n",
    ")\n",
    "\n",
    "history_CNN_BN = model_CNN_BN.fit(\n",
    "            x_train_sn, y_train,\n",
    "            batch_size=batch_size,\n",
    "            epochs=epochs,\n",
    "            verbose=1,\n",
    "            validation_data=(x_test_sn, y_test),\n",
    "            )"
   ]
  },
  {
   "cell_type": "code",
   "execution_count": 171,
   "id": "9d4f14ca",
   "metadata": {},
   "outputs": [],
   "source": [
    "loss, accuracy = model_CNN_BN.evaluate(x_test_sn, y_test, verbose=0)\n",
    "accuracy_test.append(accuracy)\n",
    "loss_test.append(loss)"
   ]
  },
  {
   "cell_type": "markdown",
   "id": "c83296c1",
   "metadata": {},
   "source": [
    "# Результаты"
   ]
  },
  {
   "cell_type": "code",
   "execution_count": 175,
   "id": "56abaa99",
   "metadata": {},
   "outputs": [
    {
     "data": {
      "image/png": "[encoded data removed]",
      "text/plain": [
       "<Figure size 720x360 with 1 Axes>"
      ]
     },
     "metadata": {
      "needs_background": "light"
     },
     "output_type": "display_data"
    }
   ],
   "source": [
    "num_alg = 4\n",
    "\n",
    "name_alg = []\n",
    "name_alg.append(\"Логистическая регрессия\")\n",
    "name_alg.append(\"Полносвязная нейронная сеть\")\n",
    "name_alg.append(\"Свёрточная нейронная сеть\")\n",
    "name_alg.append(\"СНС с пакетной нормализацией\")\n",
    "\n",
    "history_list_accuracy = []\n",
    "history_list_accuracy.append(history_LR.history['accuracy'][:10])\n",
    "history_list_accuracy.append(history_FR.history['accuracy'][:10])\n",
    "history_list_accuracy.append(history_CNN.history['accuracy'])\n",
    "history_list_accuracy.append(history_CNN_BN.history['accuracy']) \n",
    "    \n",
    "plt.figure(figsize=(10, 5))\n",
    "\n",
    "colors = cycle([\"aqua\", \n",
    "                \"darkorange\", \n",
    "                \"darkgreen\",\n",
    "                \"blue\", \n",
    "                \"blueviolet\", \n",
    "                \"chartreuse\",\n",
    "                \"cornflowerblue\", \n",
    "                \"darkred\", \n",
    "                \"darkseagreen\",\n",
    "                \"navy\",\n",
    "               ])\n",
    "for i, color in zip(range(num_alg), colors):\n",
    "    plt.plot(\n",
    "        history_list_accuracy[i],\n",
    "        color=color,\n",
    "        lw=lw,\n",
    "        label=name_alg[i] + \". Тест accuracy \" + str(round(accuracy_test[i], 3)),\n",
    "    )\n",
    "\n",
    "plt.xlim([0.0, 10.0])\n",
    "plt.ylim([0.65, 1.00])\n",
    "plt.xlabel(\"Количество эпох-1\")\n",
    "plt.ylabel(\"Метрика accuracy\")\n",
    "plt.title(\"Метрика accuracy для разных алгоритмов от количества эпох\")\n",
    "plt.legend(loc=\"lower right\")\n",
    "plt.show()"
   ]
  },
  {
   "cell_type": "code",
   "execution_count": 176,
   "id": "b7129b81",
   "metadata": {},
   "outputs": [
    {
     "data": {
      "image/png": "[encoded data removed]",
      "text/plain": [
       "<Figure size 720x360 with 1 Axes>"
      ]
     },
     "metadata": {
      "needs_background": "light"
     },
     "output_type": "display_data"
    }
   ],
   "source": [
    "history_list_loss = []\n",
    "history_list_loss.append(history_LR.history['loss'][:10])\n",
    "history_list_loss.append(history_FR.history['loss'][:10])\n",
    "history_list_loss.append(history_CNN.history['loss'])\n",
    "history_list_loss.append(history_CNN_BN.history['loss']) \n",
    "    \n",
    "plt.figure(figsize=(10, 5))\n",
    "\n",
    "colors = cycle([\"aqua\", \n",
    "                \"darkorange\", \n",
    "                \"darkgreen\",\n",
    "                \"blue\", \n",
    "                \"blueviolet\", \n",
    "                \"chartreuse\",\n",
    "                \"cornflowerblue\", \n",
    "                \"darkred\", \n",
    "                \"darkseagreen\",\n",
    "                \"navy\",\n",
    "               ])\n",
    "for i, color in zip(range(num_alg), colors):\n",
    "    plt.plot(\n",
    "        history_list_loss[i],\n",
    "        color=color,\n",
    "        lw=lw,\n",
    "        label=name_alg[i] + \". Тест loss \" + str(round(loss_test[i], 3)),\n",
    "    )\n",
    "\n",
    "plt.xlim([0.0, 10.0])\n",
    "plt.ylim([0.2, 1.00])\n",
    "plt.xlabel(\"Количество эпох-1\")\n",
    "plt.ylabel(\"Метрика loss\")\n",
    "plt.title(\"Метрика loss для разных алгоритмов от количества эпох\")\n",
    "plt.legend(loc=\"upper right\")\n",
    "plt.show()"
   ]
  },
  {
   "cell_type": "markdown",
   "id": "b2fcf093",
   "metadata": {},
   "source": [
    "Наилучшие результаты на данном наборе данных получены свёрточной нейронной сетью с пакетной нормализацией."
   ]
  }
 ],
 "metadata": {
  "kernelspec": {
   "display_name": "Python 3 (ipykernel)",
   "language": "python",
   "name": "python3"
  },
  "language_info": {
   "codemirror_mode": {
    "name": "ipython",
    "version": 3
   },
   "file_extension": ".py",
   "mimetype": "text/x-python",
   "name": "python",
   "nbconvert_exporter": "python",
   "pygments_lexer": "ipython3",
   "version": "3.9.7"
  }
 },
 "nbformat": 4,
 "nbformat_minor": 5
}
